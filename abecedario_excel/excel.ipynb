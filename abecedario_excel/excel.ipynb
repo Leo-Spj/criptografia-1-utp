{
 "cells": [
  {
   "cell_type": "code",
   "execution_count": null,
   "metadata": {},
   "outputs": [
    {
     "name": "stdout",
     "output_type": "stream",
     "text": [
      "Archivo creado con éxito\n"
     ]
    }
   ],
   "source": [
    "\n",
    "def cadena_a_csv(cadena):\n",
    "    # separar la cadena en caracteres, quitar espacios\n",
    "    cadena = cadena.replace(' ', '')\n",
    "    caracteres = list(cadena)\n",
    "\n",
    "    # guardar en archivo csv con encoding UTF-8-SIG (con BOM para Excel)\n",
    "    with open('archivo.csv', 'w', encoding='utf-8-sig') as archivo:\n",
    "        for caracter in caracteres:\n",
    "            archivo.write(f'{caracter},')\n",
    "    \n",
    "    print('Archivo creado con éxito')\n",
    "\n",
    "cadena_a_csv(input('Introduce una cadena de texto: '))"
   ]
  },
  {
   "cell_type": "code",
   "execution_count": 1,
   "metadata": {},
   "outputs": [
    {
     "name": "stdout",
     "output_type": "stream",
     "text": [
      "Archivo creado con éxito\n"
     ]
    }
   ],
   "source": [
    "def cadena_inversa_a_csv(cadena):\n",
    "    # separar la cadena en caracteres, quitar espacios, invertir\n",
    "    cadena = cadena.replace(' ', '')\n",
    "    cadena = list(cadena)\n",
    "    cadena = cadena[::-1]\n",
    "\n",
    "    # guardar en archivo csv\n",
    "    with open('archivo.csv', 'w', encoding='utf-8-sig') as archivo:\n",
    "        for caracter in cadena:\n",
    "            archivo.write(caracter + ',')\n",
    "    \n",
    "    print('Archivo creado con éxito')\n",
    "\n",
    "cadena_inversa_a_csv(input('Ingrese una cadena: '))\n"
   ]
  }
 ],
 "metadata": {
  "kernelspec": {
   "display_name": "venv",
   "language": "python",
   "name": "python3"
  },
  "language_info": {
   "codemirror_mode": {
    "name": "ipython",
    "version": 3
   },
   "file_extension": ".py",
   "mimetype": "text/x-python",
   "name": "python",
   "nbconvert_exporter": "python",
   "pygments_lexer": "ipython3",
   "version": "3.12.6"
  }
 },
 "nbformat": 4,
 "nbformat_minor": 2
}
