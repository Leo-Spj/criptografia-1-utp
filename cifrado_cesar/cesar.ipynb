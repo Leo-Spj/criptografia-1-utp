{
 "cells": [
  {
   "cell_type": "code",
   "execution_count": 3,
   "metadata": {},
   "outputs": [
    {
     "name": "stdout",
     "output_type": "stream",
     "text": [
      "Este programa cifra o descifra un mensaje mediante la cifra César\n",
      "\n",
      "Resultado: LEONARDO\n"
     ]
    }
   ],
   "source": [
    "\n",
    "# Cifra César\n",
    "print(\"Este programa cifra o descifra un mensaje mediante la cifra César\\n\")\n",
    "# Símbolos que pueden cifrarse\n",
    "ALFABETO = 'ABCDEFGHIJKLMNOPQRSTUVWXYZ'\n",
    "# Almacena la cadena cifrada/descifrada\n",
    "salida = ''\n",
    "# Guarda la opción deseada\n",
    "modo = input('¿Deseas cifrar o descifrar? (c/D): ').strip().lower()\n",
    "# Se almacena el texto y la clave\n",
    "texto = input('Introduce el texto: ')\n",
    "clave = int(input('Y la clave (1-25): '))\n",
    "\n",
    "# Ejecuta el proceso letra a letra\n",
    "for simbolo in texto.upper():\n",
    "    if simbolo in ALFABETO:\n",
    "        # Identifica la posición de cada símbolo\n",
    "        pos = ALFABETO.find(simbolo)\n",
    "\n",
    "        # Ejecuta la operación de cifrado/descifrado\n",
    "        if modo == 'c':\n",
    "            pos = (pos + clave) % 26\n",
    "        elif modo == 'd':\n",
    "            pos = (pos - clave) % 26\n",
    "\n",
    "        # Añade el nuevo símbolo a la cadena\n",
    "        salida += ALFABETO[pos]\n",
    "    else:\n",
    "        # Añade el símbolo sin cifrar/descifrar si no está en el ALFABETO\n",
    "        salida += simbolo\n",
    "# Imprime en pantalla el resultado\n",
    "print(\"Resultado:\", salida)"
   ]
  }
 ],
 "metadata": {
  "kernelspec": {
   "display_name": "venv",
   "language": "python",
   "name": "python3"
  },
  "language_info": {
   "codemirror_mode": {
    "name": "ipython",
    "version": 3
   },
   "file_extension": ".py",
   "mimetype": "text/x-python",
   "name": "python",
   "nbconvert_exporter": "python",
   "pygments_lexer": "ipython3",
   "version": "3.12.6"
  }
 },
 "nbformat": 4,
 "nbformat_minor": 2
}
