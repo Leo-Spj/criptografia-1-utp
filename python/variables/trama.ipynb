{
 "cells": [
  {
   "cell_type": "code",
   "execution_count": 3,
   "metadata": {},
   "outputs": [
    {
     "name": "stdout",
     "output_type": "stream",
     "text": [
      "KF CL ZS QR EJ\n"
     ]
    }
   ],
   "source": [
    "def reordenar_grupos(cadena_principal, clave_dada, clave_ordenatoria):\n",
    "    # Validar que ambas claves tengan la misma longitud y mismos elementos\n",
    "    tokens_sup = clave_dada.split()\n",
    "    tokens_inf = clave_ordenatoria.split()\n",
    "    if len(tokens_sup) != len(tokens_inf) or sorted(tokens_sup) != sorted(tokens_inf):\n",
    "        raise ValueError('Las claves no tienen la misma longitud o caracteres')\n",
    "    num_keys = len(tokens_sup)\n",
    "    r = len(cadena_principal) % num_keys\n",
    "    if r != 0:\n",
    "        cadena_principal = cadena_principal[:-r]\n",
    "    group_length = len(cadena_principal) // num_keys\n",
    "    \n",
    "    # Dividir la cadena en grupos\n",
    "    grupos = [cadena_principal[i:i+group_length] for i in range(0, len(cadena_principal), group_length)]\n",
    "    \n",
    "    # Cambio: recorrer los dígitos de clave_ordenatoria y buscar su índice en clave_dada para reordenar cíclicamente los bloques.\n",
    "    resultado = []\n",
    "    for digito in tokens_inf:\n",
    "        idx = tokens_sup.index(digito)\n",
    "        resultado.append(grupos[idx])\n",
    "    return ' '.join(resultado)\n",
    "\n",
    "# Ejemplo de uso con la prueba solicitada:\n",
    "if __name__ == '__main__':\n",
    "    # clave_ordenatoria: 2 3 1 4, cadena: AÑHUNBGMYPWTDOVXQRSZCFEKLJI, clave_dada: 1 2 3 4\n",
    "    cadena = \"ZSQRCLKFEJI\"\n",
    "    clave_dada = \"7 2 6 5 3\"\n",
    "    clave_ordenatoria = \"5 6 7 2 3\"\n",
    "    print(reordenar_grupos(cadena, clave_dada, clave_ordenatoria))  # Salida: DOVXQR AÑHUNB GMYPWT SZCFEK\n"
   ]
  }
 ],
 "metadata": {
  "kernelspec": {
   "display_name": "venv",
   "language": "python",
   "name": "python3"
  },
  "language_info": {
   "codemirror_mode": {
    "name": "ipython",
    "version": 3
   },
   "file_extension": ".py",
   "mimetype": "text/x-python",
   "name": "python",
   "nbconvert_exporter": "python",
   "pygments_lexer": "ipython3",
   "version": "3.12.6"
  }
 },
 "nbformat": 4,
 "nbformat_minor": 2
}
