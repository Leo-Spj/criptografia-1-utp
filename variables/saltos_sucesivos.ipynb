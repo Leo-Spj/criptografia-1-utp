{
 "cells": [
  {
   "cell_type": "code",
   "execution_count": 2,
   "metadata": {},
   "outputs": [
    {
     "name": "stdout",
     "output_type": "stream",
     "text": [
      "P W T D O V X\n"
     ]
    }
   ],
   "source": [
    "def ordenar_cadena(cadena: str, saltos: str) -> str:\n",
    "    # Convertir cadena y saltos a listas\n",
    "    elementos = cadena.split()\n",
    "    saltos_list = list(map(int, saltos.split()))\n",
    "    ordenados = []\n",
    "    pointer = 0\n",
    "    first = True\n",
    "    salto_idx = 0\n",
    "    while elementos:\n",
    "        s = saltos_list[salto_idx % len(saltos_list)]\n",
    "        if first:\n",
    "            pointer = (pointer + s) % len(elementos)\n",
    "            first = False\n",
    "        else:\n",
    "            pointer = (pointer + s - 1) % len(elementos)\n",
    "        ordenados.append(elementos.pop(pointer))\n",
    "        salto_idx += 1\n",
    "    return \" \".join(ordenados)\n",
    "\n",
    "# Ejemplo de uso\n",
    "cadena = \"\"\" T\tX\tV\tW\tP\tO\tD\n",
    "\"\"\"\n",
    "saltos = \"4 6 8\" # -> son saltos, si se desea por ESPACIOS sumar 1 a cada salto ejemplo \"4 6 8\" -> [5 7 9]\n",
    "print(ordenar_cadena(cadena, saltos))  # Resultado esperado: 2 5 7 0 3 8 1 9 6 4\n"
   ]
  },
  {
   "cell_type": "code",
   "execution_count": 1,
   "metadata": {},
   "outputs": [
    {
     "name": "stdout",
     "output_type": "stream",
     "text": [
      "A Ñ H U N B G M Y\n"
     ]
    }
   ],
   "source": [
    "# nueva funcion:\n",
    "def ordenar_cadena_con_direcciones(cadena: str, saltos: str, direcciones: str) -> str:\n",
    "    # Convertir cadena y saltos a listas, y direcciones a lista de caracteres\n",
    "    elementos = cadena.split()\n",
    "    saltos_list = list(map(int, saltos.split()))\n",
    "    direcciones_list = list(direcciones)\n",
    "    ordenados = []\n",
    "    pointer = 0\n",
    "    first = True\n",
    "    idx = 0\n",
    "    while elementos:\n",
    "        s = saltos_list[idx % len(saltos_list)]\n",
    "        d = direcciones_list[idx % len(direcciones_list)].upper()\n",
    "        if first:\n",
    "            if d == 'D':\n",
    "                pointer = (pointer + s) % len(elementos)\n",
    "            elif d == 'I':\n",
    "                pointer = (pointer - s) % len(elementos)\n",
    "            else:\n",
    "                raise ValueError('Dirección no válida: use I o D')\n",
    "            first = False\n",
    "        else:\n",
    "            if d == 'D':\n",
    "                pointer = (pointer + s - 1) % len(elementos)\n",
    "            elif d == 'I':\n",
    "                pointer = (pointer - s) % len(elementos)\n",
    "            else:\n",
    "                raise ValueError('Dirección no válida: use I o D')\n",
    "        ordenados.append(elementos.pop(pointer))\n",
    "        idx += 1\n",
    "    return \" \".join(ordenados)\n",
    "\n",
    "# Ejemplo de uso de la nueva función\n",
    "cadena = \"\"\"Y\tB\tÑ\tH\tG\tM\tA\tN\tU\n",
    "\"\"\"\n",
    "saltos = \"3 5 7\"\n",
    "direcciones = \"IDI\"  # Secuencia cíclica: Izquierda, Derecha, Izquierda\n",
    "print(ordenar_cadena_con_direcciones(cadena, saltos, direcciones))\n"
   ]
  }
 ],
 "metadata": {
  "kernelspec": {
   "display_name": "venv",
   "language": "python",
   "name": "python3"
  },
  "language_info": {
   "codemirror_mode": {
    "name": "ipython",
    "version": 3
   },
   "file_extension": ".py",
   "mimetype": "text/x-python",
   "name": "python",
   "nbconvert_exporter": "python",
   "pygments_lexer": "ipython3",
   "version": "3.12.6"
  }
 },
 "nbformat": 4,
 "nbformat_minor": 2
}
