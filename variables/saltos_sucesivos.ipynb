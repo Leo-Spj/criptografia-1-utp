{
 "cells": [
  {
   "cell_type": "code",
   "execution_count": null,
   "metadata": {},
   "outputs": [
    {
     "name": "stdout",
     "output_type": "stream",
     "text": [
      "8 V N 6 X P K 0 M Z S 9 R Y 7 Q T A L O U W\n"
     ]
    }
   ],
   "source": [
    "def ordenar_cadena(cadena: str, saltos: str) -> str:\n",
    "    # Convertir cadena y saltos a listas\n",
    "    elementos = cadena.split()\n",
    "    saltos_list = list(map(int, saltos.split()))\n",
    "    ordenados = []\n",
    "    pointer = 0\n",
    "    first = True\n",
    "    salto_idx = 0\n",
    "    while elementos:\n",
    "        s = saltos_list[salto_idx % len(saltos_list)]\n",
    "        if first:\n",
    "            pointer = (pointer + s) % len(elementos)\n",
    "            first = False\n",
    "        else:\n",
    "            pointer = (pointer + s - 1) % len(elementos)\n",
    "        ordenados.append(elementos.pop(pointer))\n",
    "        salto_idx += 1\n",
    "    return \" \".join(ordenados)\n",
    "\n",
    "# Ejemplo de uso\n",
    "cadena = \"\"\"6\tA\t7\tZ\t8\tY\t9\tX\t0\tW\tV\tU\tT\tS\tR\tQ\tP\tO\tN\tM\tL\tK\n",
    "\"\"\"\n",
    "saltos = \"4 6 8\" # -> son saltos, si se desea por espacios sumar 1 a cada salto ejemplo \"4 6 8\" -> [5 7 9]\n",
    "print(ordenar_cadena(cadena, saltos))  # Resultado esperado: 2 5 7 0 3 8 1 9 6 4\n"
   ]
  }
 ],
 "metadata": {
  "kernelspec": {
   "display_name": "venv",
   "language": "python",
   "name": "python3"
  },
  "language_info": {
   "codemirror_mode": {
    "name": "ipython",
    "version": 3
   },
   "file_extension": ".py",
   "mimetype": "text/x-python",
   "name": "python",
   "nbconvert_exporter": "python",
   "pygments_lexer": "ipython3",
   "version": "3.12.6"
  }
 },
 "nbformat": 4,
 "nbformat_minor": 2
}
