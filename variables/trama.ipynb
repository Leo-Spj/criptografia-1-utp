{
 "cells": [
  {
   "cell_type": "code",
   "execution_count": 4,
   "metadata": {},
   "outputs": [
    {
     "name": "stdout",
     "output_type": "stream",
     "text": [
      "bacedfhgioku\n"
     ]
    }
   ],
   "source": [
    "def reordenar(cadena_principal, clave_inferior, clave_superior):\n",
    "    # Validar que las claves tengan la misma longitud y mismos caracteres\n",
    "    tokens_inf = clave_inferior.split()\n",
    "    tokens_sup = clave_superior.split()\n",
    "    if len(tokens_inf) != len(tokens_sup) or sorted(tokens_inf) != sorted(tokens_sup):\n",
    "        raise ValueError('Las claves no tienen la misma longitud o caracteres')\n",
    "    \n",
    "    block_size = len(tokens_inf)\n",
    "    \n",
    "    # Quitar los últimos caracteres según el módulo\n",
    "    r = len(cadena_principal) % block_size\n",
    "    if r != 0:\n",
    "        cadena_principal = cadena_principal[:-r]\n",
    "    \n",
    "    resultado = []\n",
    "    \n",
    "    for i in range(0, len(cadena_principal), block_size):\n",
    "        bloque = list(cadena_principal[i:i+block_size])\n",
    "        nuevo_bloque = []\n",
    "        for digito in tokens_sup:\n",
    "            indice = tokens_inf.index(digito)\n",
    "            nuevo_bloque.append(bloque[indice])\n",
    "        resultado.append(''.join(nuevo_bloque))\n",
    "    \n",
    "    return ''.join(resultado)\n",
    "\n",
    "# Ejemplo de uso:\n",
    "if __name__ == '__main__':\n",
    "    cadena = 'abcdefghikou'\n",
    "    clave_inferior = '3 1 2'\n",
    "    clave_superior = '1 3 2'\n",
    "    print(reordenar(cadena, clave_inferior, clave_superior))\n"
   ]
  }
 ],
 "metadata": {
  "kernelspec": {
   "display_name": "venv",
   "language": "python",
   "name": "python3"
  },
  "language_info": {
   "codemirror_mode": {
    "name": "ipython",
    "version": 3
   },
   "file_extension": ".py",
   "mimetype": "text/x-python",
   "name": "python",
   "nbconvert_exporter": "python",
   "pygments_lexer": "ipython3",
   "version": "3.12.6"
  }
 },
 "nbformat": 4,
 "nbformat_minor": 2
}
