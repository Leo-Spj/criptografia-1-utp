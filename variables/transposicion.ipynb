{
 "cells": [
  {
   "cell_type": "code",
   "execution_count": null,
   "metadata": {},
   "outputs": [
    {
     "name": "stdout",
     "output_type": "stream",
     "text": [
      "GHI ABC DEF\n"
     ]
    }
   ],
   "source": [
    "def reordenar_grupos(cadena_principal, clave_superior, clave_inferior):\n",
    "    # Validar que las claves tengan la misma longitud y mismos caracteres\n",
    "    tokens_sup = clave_superior.split()\n",
    "    tokens_inf = clave_inferior.split()\n",
    "    if len(tokens_inf) != len(tokens_sup) or sorted(tokens_inf) != sorted(tokens_sup):\n",
    "        raise ValueError('Las claves no tienen la misma longitud o caracteres')\n",
    "    group_size = len(tokens_inf)\n",
    "    \n",
    "    # Eliminar caracteres sobrantes\n",
    "    r = len(cadena_principal) % group_size\n",
    "    if r != 0:\n",
    "        cadena_principal = cadena_principal[:-r]\n",
    "    \n",
    "    # Dividir la cadena en grupos\n",
    "    grupos = [cadena_principal[i:i+group_size] for i in range(0, len(cadena_principal), group_size)]\n",
    "    \n",
    "    # Reordenar los grupos según el mapeo: clave_inferior: asigna cada grupo; clave_superior: define el orden final\n",
    "    # Para cada dígito en clave_superior, buscamos su posición en clave_inferior y recuperamos el grupo correspondiente\n",
    "    resultado = []\n",
    "    for dig in tokens_sup:\n",
    "        idx = tokens_inf.index(dig)\n",
    "        resultado.append(grupos[idx])\n",
    "    return ' '.join(resultado)\n",
    "\n",
    "# Ejemplo de uso:\n",
    "if __name__ == '__main__':\n",
    "    # Ejemplo dado:\n",
    "    cadena = \"\"\"ABCDEFGHIJ\"\"\"\n",
    "    clave_inferior = \"\"\"2 3 1\"\"\"\n",
    "    clave_superior = \"\"\"1 2 3\"\"\"\n",
    "    print(reordenar_grupos(cadena, clave_superior, clave_inferior))  # Salida: 678 012 345\n"
   ]
  }
 ],
 "metadata": {
  "kernelspec": {
   "display_name": "venv",
   "language": "python",
   "name": "python3"
  },
  "language_info": {
   "codemirror_mode": {
    "name": "ipython",
    "version": 3
   },
   "file_extension": ".py",
   "mimetype": "text/x-python",
   "name": "python",
   "nbconvert_exporter": "python",
   "pygments_lexer": "ipython3",
   "version": "3.12.6"
  }
 },
 "nbformat": 4,
 "nbformat_minor": 2
}
